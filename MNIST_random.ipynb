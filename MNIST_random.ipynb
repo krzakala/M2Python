{
 "cells": [
  {
   "cell_type": "markdown",
   "metadata": {},
   "source": [
    "## MNIST classification with random projections"
   ]
  },
  {
   "cell_type": "code",
   "execution_count": null,
   "metadata": {
    "collapsed": false
   },
   "outputs": [],
   "source": [
    "from __future__ import print_function\n",
    "import keras\n",
    "from keras.datasets import mnist\n",
    "import matplotlib\n",
    "import numpy as np\n",
    "import matplotlib.pyplot as plt\n",
    "%matplotlib inline "
   ]
  },
  {
   "cell_type": "markdown",
   "metadata": {},
   "source": [
    "First, we download the data. Mnist is so classic that it is already implemented in Keras. Let us see how data looks like"
   ]
  },
  {
   "cell_type": "code",
   "execution_count": 2,
   "metadata": {
    "collapsed": false
   },
   "outputs": [
    {
     "name": "stdout",
     "output_type": "stream",
     "text": [
      "60000 train samples\n",
      "10000 test samples\n",
      "These are numbers corresponding to  5   0   4  and  1\n"
     ]
    },
    {
     "data": {
      "text/plain": [
       "<matplotlib.image.AxesImage at 0x119f8c128>"
      ]
     },
     "execution_count": 2,
     "metadata": {},
     "output_type": "execute_result"
    },
    {
     "data": {
      "image/png": "[encoded data removed]",
      "text/plain": [
       "<matplotlib.figure.Figure at 0x1169d8da0>"
      ]
     },
     "metadata": {},
     "output_type": "display_data"
    }
   ],
   "source": [
    "# Download the data, shuffled and split between train and test sets\n",
    "(x_train, y_train), (x_test, y_test) = mnist.load_data()\n",
    "print(x_train.shape[0], 'train samples')\n",
    "print(x_test.shape[0], 'test samples')\n",
    "\n",
    "# and let us look at the numbers\n",
    "print(\"These are numbers corresponding to \",y_train[0],\" \",y_train[1],\" \",y_train[2],\" and \",y_train[3])\n",
    "plt.subplot(221)\n",
    "plt.imshow(x_train[0], cmap=plt.get_cmap('gray'))\n",
    "plt.subplot(222)\n",
    "plt.imshow(x_train[1], cmap=plt.get_cmap('gray'))\n",
    "plt.subplot(223)\n",
    "plt.imshow(x_train[2], cmap=plt.get_cmap('gray'))\n",
    "plt.subplot(224)\n",
    "plt.imshow(x_train[3], cmap=plt.get_cmap('gray'))"
   ]
  },
  {
   "cell_type": "markdown",
   "metadata": {},
   "source": [
    "Now we need to tranform these two dimensionnal images into a single dimensional vector, which we should also normalize between $0$ and $1$. We also wants to tranform the \"y\"s into one-hot-encoding type vectors."
   ]
  },
  {
   "cell_type": "code",
   "execution_count": 3,
   "metadata": {
    "collapsed": false,
    "scrolled": false
   },
   "outputs": [
    {
     "name": "stdout",
     "output_type": "stream",
     "text": [
      "The cateragories for these image is now encoded as : \n",
      " [ 0.  0.  0.  0.  0.  1.  0.  0.  0.  0.] \n",
      " [ 1.  0.  0.  0.  0.  0.  0.  0.  0.  0.] \n",
      " [ 0.  0.  0.  0.  1.  0.  0.  0.  0.  0.] \n",
      " [ 0.  1.  0.  0.  0.  0.  0.  0.  0.  0.] \n",
      "\n"
     ]
    }
   ],
   "source": [
    "x_train = x_train.reshape(60000, 784)\n",
    "x_test = x_test.reshape(10000, 784)\n",
    "x_train = x_train.astype('float32') #convert in float...\n",
    "x_test = x_test.astype('float32')\n",
    "x_train /= 255  # .. and normalize\n",
    "x_test /= 255\n",
    "\n",
    "# convert class vectors to binary class matrices\n",
    "num_classes = 10\n",
    "y_train = keras.utils.to_categorical(y_train, num_classes)\n",
    "y_test = keras.utils.to_categorical(y_test, num_classes)\n",
    "\n",
    "print(\"The cateragories for these image is now encoded as : \\n\",y_train[0][:],\"\\n\",y_train[1][:],\"\\n\",y_train[2][:],\"\\n\",y_train[3][:],\"\\n\" )"
   ]
  },
  {
   "cell_type": "markdown",
   "metadata": {},
   "source": [
    "MNIST is probably not easy to classify in direct space we shall not even try. Instead, we will try to go into a large dimensional space using random projection followed by a non linearity. Let us see how it works with $1000$ random projection followed by a function $\\rm{erf}$. First we create the random matrix:"
   ]
  },
  {
   "cell_type": "code",
   "execution_count": 11,
   "metadata": {
    "collapsed": false
   },
   "outputs": [
    {
     "name": "stdout",
     "output_type": "stream",
     "text": [
      "Done ! \r\n"
     ]
    },
    {
     "data": {
      "text/plain": [
       "(60000, 5000)"
      ]
     },
     "execution_count": 11,
     "metadata": {},
     "output_type": "execute_result"
    }
   ],
   "source": [
    "num_features=5000;\n",
    "from numpy import sqrt;\n",
    "from scipy.special import erf\n",
    "\n",
    "randmatrix=np.random.randn(num_features,784)/sqrt(784); # create a random matrix\n",
    "A=erf(np.transpose(np.dot(randmatrix,np.transpose(x_train))))# compute the projection\n",
    "print('Done ! \\r')\n",
    "A.shape"
   ]
  },
  {
   "cell_type": "markdown",
   "metadata": {},
   "source": [
    "Now, we want to perform a linear regression in the space of $A$, which is a num_featuresx$60000$ matrix. if we perform a simple regression, we have a model where we want to predict label by $Y=A \\theta$. The  solution is obtained by writing \n",
    "$$\\theta=(A^T A)^{-1} A^T Y$$\n",
    "We thus create the correlation matrix $C=A^T A$ and the projection matrix $P=A^T Y$"
   ]
  },
  {
   "cell_type": "code",
   "execution_count": 12,
   "metadata": {
    "collapsed": false
   },
   "outputs": [],
   "source": [
    "CORRELATION=np.dot(np.transpose(A),A)\n",
    "PROJECTION=np.dot(np.transpose(A),y_train[:,:])"
   ]
  },
  {
   "cell_type": "markdown",
   "metadata": {},
   "source": [
    "and we compute the coefficient $\\theta$ by solving the linear system:"
   ]
  },
  {
   "cell_type": "code",
   "execution_count": 13,
   "metadata": {
    "collapsed": false
   },
   "outputs": [],
   "source": [
    "COEFF,_,_,_=np.linalg.lstsq(CORRELATION,PROJECTION)"
   ]
  },
  {
   "cell_type": "markdown",
   "metadata": {},
   "source": [
    "Now that this is done, we can try to make a prediction for the elements of the test set. First, we need again to perform the projection for these digits:"
   ]
  },
  {
   "cell_type": "code",
   "execution_count": 14,
   "metadata": {
    "collapsed": false
   },
   "outputs": [],
   "source": [
    "TEST=erf(np.dot(randmatrix,np.transpose(x_test)))"
   ]
  },
  {
   "cell_type": "markdown",
   "metadata": {},
   "source": [
    "and we apply our linear prediction in features space"
   ]
  },
  {
   "cell_type": "code",
   "execution_count": 15,
   "metadata": {
    "collapsed": false
   },
   "outputs": [
    {
     "data": {
      "text/plain": [
       "(10000, 10)"
      ]
     },
     "execution_count": 15,
     "metadata": {},
     "output_type": "execute_result"
    }
   ],
   "source": [
    "MULTI=np.dot(np.transpose(TEST),COEFF)\n",
    "MULTI.shape"
   ]
  },
  {
   "cell_type": "markdown",
   "metadata": {},
   "source": [
    "For each of the $10000$ digits, we now have a prediction saying how likely it belongs to the each of the $10$ classes. In order to choose the class, we gonna use the one that returns the largest elements:"
   ]
  },
  {
   "cell_type": "code",
   "execution_count": 16,
   "metadata": {
    "collapsed": false
   },
   "outputs": [
    {
     "name": "stdout",
     "output_type": "stream",
     "text": [
      "Fraction of correct prediction is : 0.9674\n"
     ]
    }
   ],
   "source": [
    "PREDICTION=np.argmax(np.transpose(MULTI), axis=0)\n",
    "LABELTRUE=(np.dot(y_test,np.transpose([0,1,2,3,4,5,6,7,8,9])))\n",
    "print(\"Fraction of correct prediction is :\",sum(LABELTRUE==PREDICTION)/10000)"
   ]
  },
  {
   "cell_type": "markdown",
   "metadata": {},
   "source": [
    "This is not bad for a such a simple and fact code. Beside, it is easy to go beyond to 98% with this approach by incerasing the number of projections, and playing with a regularization term."
   ]
  },
  {
   "cell_type": "code",
   "execution_count": null,
   "metadata": {
    "collapsed": true
   },
   "outputs": [],
   "source": []
  }
 ],
 "metadata": {
  "kernelspec": {
   "display_name": "Python 3",
   "language": "python",
   "name": "python3"
  },
  "language_info": {
   "codemirror_mode": {
    "name": "ipython",
    "version": 3
   },
   "file_extension": ".py",
   "mimetype": "text/x-python",
   "name": "python",
   "nbconvert_exporter": "python",
   "pygments_lexer": "ipython3",
   "version": "3.6.0"
  }
 },
 "nbformat": 4,
 "nbformat_minor": 2
}
