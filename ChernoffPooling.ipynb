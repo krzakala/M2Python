{
 "cells": [
  {
   "cell_type": "markdown",
   "metadata": {},
   "source": [
    "# How many people should we ask to get a precise estimate of the mean of a binary variable?\n",
    "\n",
    "To answer this question, we are going to use the Chernoff bound in the Sanov form: \n",
    "$$\n",
    "{\\begin{aligned}\\Pr \\left({\\frac {1}{n}}\\sum X_{i}\\geq p+\\varepsilon \\right)\\leq \\left(\\left({\\frac {p}{p+\\varepsilon }}\\right)^{p+\\varepsilon }{\\left({\\frac {1-p}{1-p-\\varepsilon }}\\right)}^{1-p-\\varepsilon }\\right)^{n}&=e^{-D(p+\\varepsilon \\|p)n}\\\\\\Pr \\left({\\frac {1}{n}}\\sum X_{i}\\leq p-\\varepsilon \\right)\\leq \\left(\\left({\\frac {p}{p-\\varepsilon }}\\right)^{p-\\varepsilon }{\\left({\\frac {1-p}{1-p+\\varepsilon }}\\right)}^{1-p+\\varepsilon }\\right)^{n}&=e^{-D(p-\\varepsilon \\|p)n}\\end{aligned}}\n",
    "$$\n",
    "\n",
    "First, need to define the Kullback-Leibler divergence"
   ]
  },
  {
   "cell_type": "code",
   "execution_count": 25,
   "metadata": {
    "collapsed": true
   },
   "outputs": [],
   "source": [
    "from math import log\n",
    "\n",
    "def DKL(x,y):\n",
    "    x=min(x,0.99999);\n",
    "    x=max(x,0.00001); \n",
    "    y=min(y,0.99999);\n",
    "    y=max(y,0.00001);\n",
    "    return x*log(x/y)+(1-x)*log((1-x)/(1-y))"
   ]
  },
  {
   "cell_type": "markdown",
   "metadata": {},
   "source": [
    "If we are given the true value of $p$ it is then easy: for a given precision $\\epsilon$ (here denoted tol) on $p$, with a probability at least $0.95$, we can find the value of $N$ as "
   ]
  },
  {
   "cell_type": "code",
   "execution_count": 63,
   "metadata": {
    "collapsed": true
   },
   "outputs": [],
   "source": [
    "def returnN(ptrue,p_wrong,tol):\n",
    "    DKL1=DKL(ptrue+0.01,ptrue);\n",
    "    DKL2=DKL(ptrue-0.01,ptrue);\n",
    "    DKLworst=min(DKL1,DKL2);    \n",
    "    return -log(p_wrong/2)/DKLworst;"
   ]
  },
  {
   "cell_type": "markdown",
   "metadata": {},
   "source": [
    "The problem is that we do not know the true $p$! Well, it is ok, we can try all value and plot the corresponding $N$"
   ]
  },
  {
   "cell_type": "code",
   "execution_count": 64,
   "metadata": {
    "collapsed": false
   },
   "outputs": [
    {
     "name": "stdout",
     "output_type": "stream",
     "text": [
      "18443.167529298324\n"
     ]
    },
    {
     "data": {
      "image/png": "[encoded data removed]",
      "text/plain": [
       "<matplotlib.figure.Figure at 0x106256978>"
      ]
     },
     "metadata": {},
     "output_type": "display_data"
    }
   ],
   "source": [
    "import numpy as np\n",
    "import matplotlib.pyplot as plt\n",
    "\n",
    "# evenly sampled time at 200ms intervals\n",
    "p = np.arange(0.01, 0.99, 0.01)\n",
    "N = np.arange(0.01, 0.99, 0.01)\n",
    "for i in range(np.size(p)):\n",
    "    N[i]=returnN(p[i],0.05,0.01)\n",
    "    \n",
    "%matplotlib inline  \n",
    "plt.plot(p,N)\n",
    "print(returnN(0.5,0.05,0.01))"
   ]
  },
  {
   "cell_type": "markdown",
   "metadata": {},
   "source": [
    "We find that the worst that can happen is then the correct value if $0.5$, and in this case the variance is the largest, and we need at least $18443$ people if we want, with probability $0.95$, to be accurate within $0.01$ on our estimate of $p$. \n",
    "\n",
    "Let us compare what we would have gotten with a more approximative bound. We know indeed that Bernoulli variable are Sub-Gaussian with $\\sigma=1/2$ so that\n",
    "$$\n",
    "\\Pr \\left(\\big|{\\frac {1}{n}}\\sum X_{i}-p\\big|\\geq \\varepsilon \\right)\\leq 2 e^{-2n\\varepsilon^2 }\n",
    "$$\n",
    "This gives $n=-\\frac 1{2 (0.01)^2}\\log{\\frac{0.05}{2}} = 18444$\n",
    "\n",
    "So this much simple computation (based on a looser bound) is already giving basically the same good answer. "
   ]
  },
  {
   "cell_type": "code",
   "execution_count": 66,
   "metadata": {
    "collapsed": false
   },
   "outputs": [
    {
     "name": "stdout",
     "output_type": "stream",
     "text": [
      "215   0.489891891892\n",
      "541   0.510702702703\n",
      "741   0.513027027027\n",
      "755   0.49\n",
      "770   0.487837837838\n",
      "776   0.511135135135\n",
      "Fraction of large error: 0.006\n"
     ]
    }
   ],
   "source": [
    "import random                     #Library of random numbers\n",
    "\n",
    "num_pool=1000;\n",
    "size_pool=18500;\n",
    "count=0;\n",
    "for i in range(num_pool):\n",
    "    data=numpy.random.randint(0, 2, size_pool)\n",
    "    phat=sum(data)/size_pool;\n",
    "    if (abs(phat-0.5)>0.01):\n",
    "        print(i,\" \",phat)   \n",
    "        count=count+1\n",
    "\n",
    "print(\"Fraction of large error:\",count/num_pool)"
   ]
  },
  {
   "cell_type": "markdown",
   "metadata": {},
   "source": [
    "So we see that we are certainly satisfying the criterion! In fact, it is a bit of an overkill, since we have much better results! Much better estimates can be obtains, for instance see https://arxiv.org/pdf/0707.2113.pdf and for this problem, a sample size of $n=10000$ is actually enough."
   ]
  },
  {
   "cell_type": "code",
   "execution_count": null,
   "metadata": {
    "collapsed": true
   },
   "outputs": [],
   "source": []
  }
 ],
 "metadata": {
  "anaconda-cloud": {},
  "kernelspec": {
   "display_name": "Python [default]",
   "language": "python",
   "name": "python3"
  },
  "language_info": {
   "codemirror_mode": {
    "name": "ipython",
    "version": 3
   },
   "file_extension": ".py",
   "mimetype": "text/x-python",
   "name": "python",
   "nbconvert_exporter": "python",
   "pygments_lexer": "ipython3",
   "version": "3.5.2"
  }
 },
 "nbformat": 4,
 "nbformat_minor": 1
}
