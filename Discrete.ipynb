{
 "cells": [
  {
   "cell_type": "markdown",
   "metadata": {},
   "source": [
    "## Sampling from discrete distributions\n",
    "\n",
    "First, let us generate a random discrete distributions of $10$ elements, with each weights each generated from a random uniform distribution (and normalizing). We also compute the maximum and the cumulative distribution."
   ]
  },
  {
   "cell_type": "code",
   "execution_count": 24,
   "metadata": {
    "collapsed": false
   },
   "outputs": [
    {
     "name": "stdout",
     "output_type": "stream",
     "text": [
      "i   Prob(i)           Prob<i\n",
      "0   0.188861009082   0.0\n",
      "1   0.161821580089   0.188861009082\n",
      "2   0.000191806427663   0.350682589171\n",
      "3   0.183939888069   0.350874395599\n",
      "4   0.0102483688707   0.534814283668\n",
      "5   0.0320247580563   0.545062652538\n",
      "6   0.135013290347   0.577087410595\n",
      "7   0.0275243020514   0.712100700942\n",
      "8   0.147744941402   0.739625002993\n",
      "9   0.112630055605   0.887369944395\n"
     ]
    }
   ],
   "source": [
    "import random                     #Library of random numbers\n",
    "import numpy                      #For arrays \n",
    "import math                       #For maths \n",
    "import time                       #For timing \n",
    "import operator                   #Will use to compute maxs\n",
    "import pylab                      #Ploting Library \n",
    "\n",
    "n_iter=10\n",
    "\n",
    "#generate a random distribution\n",
    "Prob=[]\n",
    "Norm=0\n",
    "for i in range(n_iter):\n",
    "    Prob.append(random.uniform(0,1))\n",
    "    Norm=Norm+Prob[i]\n",
    "\n",
    "#Normalization \n",
    "for i in range(n_iter):\n",
    "    Prob[i]=Prob[i]/Norm      \n",
    "\n",
    "index, value_max = max(enumerate(Prob), key=operator.itemgetter(1)) #Computing the maximum value\n",
    "cum = [0.0] #computing cumulative, PROB < i \n",
    "for l in xrange(n_iter):\n",
    "    cum.append(cum[l] + Prob[l])    \n",
    "    \n",
    "print \"i   Prob(i)           Prob<i\"\n",
    "for i in range(n_iter):\n",
    "    print i, ' ',Prob[i], ' ', cum[i]"
   ]
  },
  {
   "cell_type": "markdown",
   "metadata": {},
   "source": [
    "Note that our cumalative is defined here the the probabilty to be stricly small than $i$. Now, let us implement the Accept/Reject strategy we have seen, and check that we are sampling with the correct probability."
   ]
  },
  {
   "cell_type": "code",
   "execution_count": 32,
   "metadata": {
    "collapsed": false
   },
   "outputs": [
    {
     "name": "stdout",
     "output_type": "stream",
     "text": [
      "A/R sampling took  0.0755748748779\n"
     ]
    },
    {
     "data": {
      "image/png": "[encoded data removed]",
      "text/plain": [
       "<matplotlib.figure.Figure at 0x10d623d90>"
      ]
     },
     "metadata": {},
     "output_type": "display_data"
    }
   ],
   "source": [
    "def sample_AR(prob,value_max,N):\n",
    "    ok=0\n",
    "    ir=0\n",
    "    trial=0\n",
    "    while ok==0 :\n",
    "        trial=trial+1\n",
    "        x = random.uniform(0,N)\n",
    "        y = random.uniform(0,value_max)\n",
    "        ir = int(math.floor(x))\n",
    "        if prob[ir]>y :\n",
    "            ok=1   \n",
    "    \n",
    "    return ir\n",
    "\n",
    "start = time.time()        \n",
    "list_int =[]\n",
    "for i in range(10000):\n",
    "    list_int.append(sample_AR(Prob,value_max,n_iter))\n",
    "end = time.time()        \n",
    "print 'A/R sampling took ', end - start\n",
    "\n",
    "# Ploting the histogram of the data\n",
    "x = [a for a in range(n_iter)]\n",
    "y = [Prob[a] for a in range(n_iter)]\n",
    "pylab.figure()\n",
    "pylab.hist(list_int, bins=n_iter, range=(-0.5, n_iter-0.5), normed=True)\n",
    "pylab.plot(x, y,'o', ms=8)\n",
    "pylab.title(\"Histogram (sampling) vs Distribution (dots)\")\n",
    "pylab.xlabel('$i$',fontsize=18)\n",
    "pylab.ylabel('$\\Prob(i)$',fontsize=18)\n",
    "pylab.show()"
   ]
  },
  {
   "cell_type": "markdown",
   "metadata": {},
   "source": [
    "The histogram of the sampled data corresponds very well with the distribution, as it should. Let us repeat this feat with the Tower Sampling strategy."
   ]
  },
  {
   "cell_type": "code",
   "execution_count": 33,
   "metadata": {
    "collapsed": false
   },
   "outputs": [
    {
     "name": "stdout",
     "output_type": "stream",
     "text": [
      "Tower sampling took  0.0554840564728\n"
     ]
    },
    {
     "data": {
      "image/png": "[encoded data removed]",
      "text/plain": [
       "<matplotlib.figure.Figure at 0x10db781d0>"
      ]
     },
     "metadata": {},
     "output_type": "display_data"
    }
   ],
   "source": [
    "# bisection search to find the bin corresponding to eta\n",
    "def bisection_search(eta, w_cumulative):\n",
    "    kmin = 0\n",
    "    kmax = len(w_cumulative)\n",
    "    while True:\n",
    "        k = int((kmin + kmax) / 2)\n",
    "        if w_cumulative[k] < eta:\n",
    "            kmin = k\n",
    "        elif w_cumulative[k - 1] > eta:\n",
    "            kmax = k\n",
    "        else:\n",
    "            return k - 1\n",
    "\n",
    "# sample an integer number according to weights\n",
    "def sample_T(w_cumulative):\n",
    "    eta = random.random() \n",
    "    sampled_choice = bisection_search(eta, w_cumulative)\n",
    "    return sampled_choice\n",
    "\n",
    "start = time.time()        \n",
    "list_int2 =[]\n",
    "for i in range(10000):\n",
    "    list_int2.append(sample_T(cum))\n",
    "end = time.time()        \n",
    "print 'Tower sampling took ', end - start\n",
    "\n",
    "# Ploting the histogram of the data\n",
    "x = [a for a in range(n_iter)]\n",
    "y = [Prob[a] for a in range(n_iter)]\n",
    "pylab.figure()\n",
    "pylab.hist(list_int2, bins=n_iter, range=(-0.5, n_iter-0.5), normed=True)\n",
    "pylab.plot(x, y,'o', ms=8)\n",
    "pylab.title(\"Histogram (sampling) vs Distribution (dots)\")\n",
    "pylab.xlabel('$i$',fontsize=18)\n",
    "pylab.ylabel('$\\Prob(i)$',fontsize=18)\n",
    "pylab.show() \n"
   ]
  },
  {
   "cell_type": "markdown",
   "metadata": {},
   "source": [
    "Again, our sampling works just fine, with comparable running time."
   ]
  },
  {
   "cell_type": "code",
   "execution_count": null,
   "metadata": {
    "collapsed": true
   },
   "outputs": [],
   "source": []
  }
 ],
 "metadata": {
  "kernelspec": {
   "display_name": "Python [conda root]",
   "language": "python",
   "name": "conda-root-py"
  },
  "language_info": {
   "codemirror_mode": {
    "name": "ipython",
    "version": 2
   },
   "file_extension": ".py",
   "mimetype": "text/x-python",
   "name": "python",
   "nbconvert_exporter": "python",
   "pygments_lexer": "ipython2",
   "version": "2.7.12"
  }
 },
 "nbformat": 4,
 "nbformat_minor": 1
}
